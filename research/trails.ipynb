{
 "cells": [
  {
   "cell_type": "markdown",
   "id": "0b283cd7",
   "metadata": {},
   "source": [
    "Select the environment: textS using Select Kernel"
   ]
  },
  {
   "cell_type": "markdown",
   "id": "ab8e3634",
   "metadata": {},
   "source": []
  }
 ],
 "metadata": {
  "kernelspec": {
   "display_name": "Python 3",
   "language": "python",
   "name": "python3"
  },
  "language_info": {
   "name": "python",
   "version": "3.12.9"
  }
 },
 "nbformat": 4,
 "nbformat_minor": 5
}
