{
 "cells": [
  {
   "cell_type": "code",
   "execution_count": 1,
   "id": "6bf21066",
   "metadata": {},
   "outputs": [],
   "source": [
    "import os"
   ]
  },
  {
   "cell_type": "code",
   "execution_count": null,
   "id": "d325e8e3",
   "metadata": {},
   "outputs": [
    {
     "data": {
      "text/plain": [
       "'c:\\\\Users\\\\Priya\\\\NLP\\\\Text-Summarizer-Project\\\\research'"
      ]
     },
     "execution_count": 2,
     "metadata": {},
     "output_type": "execute_result"
    }
   ],
   "source": [
    "#command that shows the current working directory\n",
    "%pwd"
   ]
  },
  {
   "cell_type": "code",
   "execution_count": 3,
   "id": "bd4c2452",
   "metadata": {},
   "outputs": [],
   "source": [
    "#changes the current working directory to the parent directory\n",
    "os.chdir(\"../\")\n",
    "#The current working directory becomes: 'c:\\\\Users\\\\Priya\\\\NLP\\\\Text-Summarizer-Project'"
   ]
  },
  {
   "cell_type": "code",
   "execution_count": 4,
   "id": "4a65b955",
   "metadata": {},
   "outputs": [
    {
     "data": {
      "text/plain": [
       "'c:\\\\Users\\\\Priya\\\\NLP\\\\Text-Summarizer-Project'"
      ]
     },
     "execution_count": 4,
     "metadata": {},
     "output_type": "execute_result"
    }
   ],
   "source": [
    "%pwd"
   ]
  },
  {
   "cell_type": "code",
   "execution_count": null,
   "id": "e5275d78",
   "metadata": {},
   "outputs": [],
   "source": [
    "#This line imports the dataclass decorator from Python’s built-in dataclasses module\n",
    "#A dataclass is a Python feature that automatically creates boilerplate code (like __init__, __repr__, and __eq__ methods) for classes that are mainly used to store data.\n",
    "from dataclasses import dataclass\n",
    "from pathlib import Path\n",
    "\n",
    "@dataclass(frozen=True)\n",
    "#Defines a new data structure (class) to hold all config values related to the data ingestion phase\n",
    "#DataIngestionConfig is an entity — specifically, a configuration entity.\n",
    "class DataIngestionConfig:\n",
    "    root_dir: Path\n",
    "    source_URL: str\n",
    "    local_data_file: Path\n",
    "    unzip_dir: Path"
   ]
  },
  {
   "cell_type": "code",
   "execution_count": 6,
   "id": "512921e6",
   "metadata": {},
   "outputs": [
    {
     "name": "stdout",
     "output_type": "stream",
     "text": [
      "Requirement already satisfied: ensure in c:\\users\\priya\\python\\envs\\texts\\lib\\site-packages (1.0.4)\n",
      "Requirement already satisfied: six>=1.11.0 in c:\\users\\priya\\python\\envs\\texts\\lib\\site-packages (from ensure) (1.17.0)\n",
      "Note: you may need to restart the kernel to use updated packages.\n"
     ]
    }
   ],
   "source": [
    "pip install --upgrade ensure"
   ]
  },
  {
   "cell_type": "code",
   "execution_count": 7,
   "id": "71bdfe25",
   "metadata": {},
   "outputs": [],
   "source": [
    "from textSummarizer.constants import *\n",
    "from textSummarizer.utils.common import read_yaml, create_directories"
   ]
  },
  {
   "cell_type": "code",
   "execution_count": null,
   "id": "8bd414e7",
   "metadata": {},
   "outputs": [],
   "source": [
    "#class ConfigurationManager, Read YAML config files, Create necessary directories, Generate configuration objects (like DataIngestionConfig) for various pipeline step\n",
    "class ConfigurationManager:\n",
    "    def __init__(self, config_filepath = CONFIG_FILE_PATH, params_filepath = PARAMS_FILE_PATH):\n",
    "        #Reads the contents of config.yaml using a helper function read_yaml() and stores it as a Python dictionary\n",
    "        self.config = read_yaml(config_filepath)\n",
    "        self.params = read_yaml(params_filepath)\n",
    "\n",
    "        create_directories([self.config.artifacts_root])\n",
    "\n",
    "    #This method is designed to construct and return a DataIngestionConfig object — that is, an object holding the config values specific to data ingestion.\n",
    "    #The return type is declared as DataIngestionConfig\n",
    "    def get_data_ingestion_config(self) -> DataIngestionConfig:\n",
    "        #Grabs the data_ingestion section from config.yaml\n",
    "        config = self.config.data_ingestion\n",
    "        #creates the data_ingestion folder inside the artifacts/ directory\n",
    "        create_directories([config.root_dir])\n",
    "        #Create an instance of the DataIngestionConfig class and Populate it with values from the YAML file (via config).\n",
    "        data_ingestion_config = DataIngestionConfig(\n",
    "            root_dir = config.root_dir,\n",
    "            source_URL = config.source_URL,\n",
    "            local_data_file = config.local_data_file,\n",
    "            unzip_dir = config.unzip_dir\n",
    "        )\n",
    "        #returns the data_ingestion_config object\n",
    "        return data_ingestion_config\n",
    "    "
   ]
  },
  {
   "cell_type": "code",
   "execution_count": 9,
   "id": "bb2bf76f",
   "metadata": {},
   "outputs": [],
   "source": [
    "import os\n",
    "import urllib.request as request\n",
    "import zipfile\n",
    "from textSummarizer.logging import logger\n",
    "from textSummarizer.utils.common import get_size"
   ]
  },
  {
   "cell_type": "code",
   "execution_count": null,
   "id": "c2326073",
   "metadata": {},
   "outputs": [],
   "source": [
    "class DataIngestion:\n",
    "    #It expects an argument config, which must be an instance of DataIngestionConfig\n",
    "    def __init__(self, config: DataIngestionConfig):\n",
    "        #Stores the config object as an instance variable so other methods can use it.\n",
    "        self.config = config\n",
    "\n",
    "    def download_file(self):\n",
    "        #Checks whether the data.zip file already exists locally, If the file does not exist, download it\n",
    "        #Downloads the file from source_URL to local_data_file.\n",
    "        #Returns the filename and HTTP response headers\n",
    "        if not os.path.exists(self.config.local_data_file):\n",
    "            filename, headers = request.urlretrieve(\n",
    "                url = self.config.source_URL,\n",
    "                filename = self.config.local_data_file\n",
    "            )\n",
    "            logger.info(f\"{filename} download! with the following info: \\n{headers}\")\n",
    "        else:\n",
    "            logger.info(f\"File already exists of size: {get_size(Path(self.config.local_data_file))}\")\n",
    "\n",
    "    def extract_zip_file(self):\n",
    "        \"\"\"\n",
    "        zip_file_path: str\n",
    "        Extracts the zip file into the data directory\n",
    "        Function returns None\n",
    "        \"\"\"\n",
    "        unzip_path = self.config.unzip_dir\n",
    "        os.makedirs(unzip_path, exist_ok= True)\n",
    "        #zipfile.ZipFile(...) opens the downloaded ZIP file in read mode.\n",
    "        #zip_ref.extractall(...) extracts all files inside to the unzip_path directory\n",
    "        with zipfile.ZipFile(self.config.local_data_file, 'r') as zip_ref:\n",
    "            zip_ref.extractall(unzip_path)"
   ]
  },
  {
   "cell_type": "code",
   "execution_count": null,
   "id": "d85f163d",
   "metadata": {},
   "outputs": [
    {
     "name": "stdout",
     "output_type": "stream",
     "text": [
      "Config file exists: True\n",
      "Params file exists: True\n"
     ]
    }
   ],
   "source": [
    "\n",
    "print(\"Config file exists:\", config_path.exists())\n",
    "print(\"Params file exists:\", params_path.exists())"
   ]
  },
  {
   "cell_type": "code",
   "execution_count": 12,
   "id": "e587574b",
   "metadata": {},
   "outputs": [
    {
     "name": "stdout",
     "output_type": "stream",
     "text": [
      "Current Working Directory: c:\\Users\\Priya\\NLP\\Text-Summarizer-Project\n"
     ]
    }
   ],
   "source": [
    "import os\n",
    "print(\"Current Working Directory:\", os.getcwd())"
   ]
  },
  {
   "cell_type": "code",
   "execution_count": null,
   "id": "d5fb85ac",
   "metadata": {},
   "outputs": [
    {
     "name": "stdout",
     "output_type": "stream",
     "text": [
      "[2025-06-09 17:33:42,103: INFO: common: yaml file: config\\config.yaml loaded successfully]\n",
      "[2025-06-09 17:33:42,104: INFO: common: yaml file: params.yaml loaded successfully]\n",
      "[2025-06-09 17:33:42,104: INFO: common: Created directory at: artifacts]\n",
      "[2025-06-09 17:33:42,104: INFO: common: Created directory at: artifacts/data_ingestion]\n",
      "[2025-06-09 17:33:42,104: INFO: 4169478213: File already exists of size: ~ 7718 KB]\n"
     ]
    }
   ],
   "source": [
    "try:\n",
    "    #creates an object of the ConfigurationManager class\n",
    "    #config is an object of ConfigurationManager\n",
    "    config = ConfigurationManager()\n",
    "    #Calls the method get_data_ingestion_config() on the config object\n",
    "    #data_ingestion_config  is an object of type DataIngestionConfig\n",
    "    data_ingestion_config = config.get_data_ingestion_config()\n",
    "    #Creates a new object of the DataIngestion class.\n",
    "    #It receives the config object (DataIngestionConfig) and stores it in self.config.\n",
    "    #passing the value of data_ingestion_config to the config parameter of the constructor.\n",
    "    data_ingestion = DataIngestion(config=data_ingestion_config)\n",
    "    data_ingestion.download_file()\n",
    "    data_ingestion.extract_zip_file()\n",
    "except Exception as e:\n",
    "    raise e"
   ]
  }
 ],
 "metadata": {
  "kernelspec": {
   "display_name": "Python 3",
   "language": "python",
   "name": "python3"
  },
  "language_info": {
   "codemirror_mode": {
    "name": "ipython",
    "version": 3
   },
   "file_extension": ".py",
   "mimetype": "text/x-python",
   "name": "python",
   "nbconvert_exporter": "python",
   "pygments_lexer": "ipython3",
   "version": "3.12.9"
  }
 },
 "nbformat": 4,
 "nbformat_minor": 5
}
